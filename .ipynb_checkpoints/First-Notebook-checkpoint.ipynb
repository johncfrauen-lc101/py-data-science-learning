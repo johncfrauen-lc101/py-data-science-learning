{
 "cells": [
  {
   "cell_type": "code",
   "execution_count": 1,
   "id": "9a67d0e6-3239-4065-ad4c-14be872143bf",
   "metadata": {},
   "outputs": [
    {
     "data": {
      "text/plain": [
       "16"
      ]
     },
     "execution_count": 1,
     "metadata": {},
     "output_type": "execute_result"
    }
   ],
   "source": [
    "4 ** 2"
   ]
  },
  {
   "cell_type": "code",
   "execution_count": null,
   "id": "cf69052f-e721-4449-b428-bcbd242f8966",
   "metadata": {},
   "outputs": [],
   "source": []
  },
  {
   "cell_type": "markdown",
   "id": "ebfa607b-b81a-43c5-a6ff-14720ac8f343",
   "metadata": {},
   "source": [
    "# title\n"
   ]
  },
  {
   "cell_type": "code",
   "execution_count": 2,
   "id": "0ff93623-4e66-4564-9e11-024ba8465dff",
   "metadata": {},
   "outputs": [
    {
     "data": {
      "text/plain": [
       "16"
      ]
     },
     "execution_count": 2,
     "metadata": {},
     "output_type": "execute_result"
    }
   ],
   "source": [
    "4 * 4"
   ]
  },
  {
   "cell_type": "code",
   "execution_count": null,
   "id": "9f8109ec-ea7f-43d4-9092-a1683584f998",
   "metadata": {},
   "outputs": [],
   "source": []
  }
 ],
 "metadata": {
  "kernelspec": {
   "display_name": "Python 3 (ipykernel)",
   "language": "python",
   "name": "python3"
  },
  "language_info": {
   "codemirror_mode": {
    "name": "ipython",
    "version": 3
   },
   "file_extension": ".py",
   "mimetype": "text/x-python",
   "name": "python",
   "nbconvert_exporter": "python",
   "pygments_lexer": "ipython3",
   "version": "3.13.0"
  }
 },
 "nbformat": 4,
 "nbformat_minor": 5
}
